{
 "cells": [
  {
   "cell_type": "code",
   "execution_count": 20,
   "metadata": {
    "pycharm": {
     "name": "#%%\n"
    }
   },
   "outputs": [],
   "source": [
    "from nbapy import team, constants\n",
    "import numpy as np\n",
    "import pandas as pd\n",
    "import matplotlib.pyplot as plt"
   ]
  },
  {
   "cell_type": "code",
   "execution_count": 2,
   "metadata": {},
   "outputs": [],
   "source": [
    "years = ['2015-16', '2016-17', '2017-18']\n",
    "MAX_TEAMS: int = 44"
   ]
  },
  {
   "cell_type": "code",
   "execution_count": 3,
   "metadata": {},
   "outputs": [],
   "source": [
    "def get_team_ids():\n",
    "    return team.TeamList().teams()[\"TEAM_ID\"]"
   ]
  },
  {
   "cell_type": "code",
   "execution_count": 4,
   "metadata": {},
   "outputs": [],
   "source": [
    "def get_shooting_split_instance(team_id_index: int, season: str = \"2017-18\", won: bool = True):\n",
    "    assert team_id_index <= MAX_TEAMS\n",
    "    t_id = str(get_team_ids()[team_id_index])\n",
    "    if won:\n",
    "        return team.ShootingSplits(t_id, per_mode=constants.PerMode.PerGame, season=season, outcome=\"W\")\n",
    "    return team.ShootingSplits(t_id, per_mode=constants.PerMode.PerGame, season=season, outcome=\"L\")"
   ]
  },
  {
   "cell_type": "code",
   "execution_count": 5,
   "metadata": {},
   "outputs": [],
   "source": [
    "def get_shot_areas(s_split: team.ShootingSplits):\n",
    "    return s_split.shot_areas()"
   ]
  },
  {
   "cell_type": "code",
   "execution_count": 6,
   "metadata": {},
   "outputs": [],
   "source": [
    "def generate_rows(**kwargs):\n",
    "    for index, row in team.TeamList().teams().iterrows():\n",
    "        # print(\"INDEX: %s\" % index)\n",
    "        split = get_shooting_split_instance(index, **kwargs)\n",
    "        shot_range = get_shot_areas(split)\n",
    "        if shot_range.empty:\n",
    "            if index == MAX_TEAMS:\n",
    "                break\n",
    "            # print('EMPTY')\n",
    "            continue\n",
    "        lc_fga = shot_range.iloc[3][\"FGA\"]\n",
    "        lc_fgm = shot_range.iloc[3][\"FGM\"]\n",
    "\n",
    "        rc_fga = shot_range.iloc[4][\"FGA\"]\n",
    "        rc_fgm = shot_range.iloc[4][\"FGM\"]\n",
    "        if kwargs['won']:\n",
    "            outcome = 'W'\n",
    "        else:\n",
    "            outcome = 'L'\n",
    "        row = [row[\"ABBREVIATION\"], kwargs['season'], str(lc_fga), str(lc_fgm), str(rc_fga), str(rc_fgm), outcome]\n",
    "        assert len(row) == 7\n",
    "        yield row"
   ]
  },
  {
   "cell_type": "code",
   "execution_count": 7,
   "metadata": {},
   "outputs": [],
   "source": [
    "def generate_dataset(**kwargs):\n",
    "    data = np.array([val for val in generate_rows(**kwargs) if val is not None])\n",
    "    # TODO add Game category\n",
    "    return pd.DataFrame(data=data, columns=['TEAM', 'Season', 'LC3_FGA', 'LC3_FGM', 'RC3_FGA', 'RC3_FGM', 'OUTCOME'],\n",
    "                        dtype=str)"
   ]
  },
  {
   "cell_type": "code",
   "execution_count": 8,
   "metadata": {
    "pycharm": {
     "name": "#%%\n"
    }
   },
   "outputs": [],
   "source": [
    "# GENERATE WINNING GAMES DATASET\n",
    "def process(won=True):\n",
    "    for year in years:\n",
    "        yield generate_dataset(season=year,won=won)"
   ]
  },
  {
   "cell_type": "code",
   "execution_count": 9,
   "metadata": {
    "pycharm": {
     "is_executing": true,
     "name": "#%%\n"
    }
   },
   "outputs": [],
   "source": [
    "winning_df = pd.concat([val for val in process()])\n",
    "losing_df = pd.concat([val for val in process(won=False)])"
   ]
  },
  {
   "cell_type": "code",
   "execution_count": 10,
   "metadata": {
    "pycharm": {
     "is_executing": true
    }
   },
   "outputs": [],
   "source": [
    "correct_types = {'LC3_FGA': 'int32', 'LC3_FGM': 'int32', 'RC3_FGA': 'int32', 'RC3_FGM': 'int32'}\n",
    "winning_df = winning_df.astype(correct_types)\n",
    "losing_df = losing_df.astype(correct_types)"
   ]
  },
  {
   "cell_type": "code",
   "execution_count": 11,
   "metadata": {
    "pycharm": {
     "is_executing": true,
     "name": "#%%\n"
    }
   },
   "outputs": [
    {
     "name": "stdout",
     "output_type": "stream",
     "text": [
      "Saving CSV Files...\n"
     ]
    }
   ],
   "source": [
    "print('Saving CSV Files...')\n",
    "winning_df.to_csv('assets/winning_shooting_stats.csv')\n",
    "losing_df.to_csv('assets/losing_shooting_stats.csv')"
   ]
  },
  {
   "cell_type": "code",
   "execution_count": 12,
   "metadata": {
    "pycharm": {
     "is_executing": true
    }
   },
   "outputs": [
    {
     "name": "stdout",
     "output_type": "stream",
     "text": [
      "<class 'pandas.core.frame.DataFrame'>\n",
      "Int64Index: 90 entries, 0 to 29\n",
      "Data columns (total 7 columns):\n",
      " #   Column   Non-Null Count  Dtype \n",
      "---  ------   --------------  ----- \n",
      " 0   TEAM     90 non-null     object\n",
      " 1   Season   90 non-null     object\n",
      " 2   LC3_FGA  90 non-null     int32 \n",
      " 3   LC3_FGM  90 non-null     int32 \n",
      " 4   RC3_FGA  90 non-null     int32 \n",
      " 5   RC3_FGM  90 non-null     int32 \n",
      " 6   OUTCOME  90 non-null     object\n",
      "dtypes: int32(4), object(3)\n",
      "memory usage: 4.2+ KB\n"
     ]
    },
    {
     "data": {
      "text/html": [
       "<div>\n",
       "<style scoped>\n",
       "    .dataframe tbody tr th:only-of-type {\n",
       "        vertical-align: middle;\n",
       "    }\n",
       "\n",
       "    .dataframe tbody tr th {\n",
       "        vertical-align: top;\n",
       "    }\n",
       "\n",
       "    .dataframe thead th {\n",
       "        text-align: right;\n",
       "    }\n",
       "</style>\n",
       "<table border=\"1\" class=\"dataframe\">\n",
       "  <thead>\n",
       "    <tr style=\"text-align: right;\">\n",
       "      <th></th>\n",
       "      <th>TEAM</th>\n",
       "      <th>Season</th>\n",
       "      <th>LC3_FGA</th>\n",
       "      <th>LC3_FGM</th>\n",
       "      <th>RC3_FGA</th>\n",
       "      <th>RC3_FGM</th>\n",
       "      <th>OUTCOME</th>\n",
       "    </tr>\n",
       "  </thead>\n",
       "  <tbody>\n",
       "    <tr>\n",
       "      <th>0</th>\n",
       "      <td>TOR</td>\n",
       "      <td>2015-16</td>\n",
       "      <td>243</td>\n",
       "      <td>103</td>\n",
       "      <td>163</td>\n",
       "      <td>68</td>\n",
       "      <td>W</td>\n",
       "    </tr>\n",
       "    <tr>\n",
       "      <th>1</th>\n",
       "      <td>ATL</td>\n",
       "      <td>2015-16</td>\n",
       "      <td>153</td>\n",
       "      <td>56</td>\n",
       "      <td>174</td>\n",
       "      <td>68</td>\n",
       "      <td>W</td>\n",
       "    </tr>\n",
       "    <tr>\n",
       "      <th>2</th>\n",
       "      <td>BOS</td>\n",
       "      <td>2015-16</td>\n",
       "      <td>137</td>\n",
       "      <td>49</td>\n",
       "      <td>145</td>\n",
       "      <td>55</td>\n",
       "      <td>W</td>\n",
       "    </tr>\n",
       "    <tr>\n",
       "      <th>3</th>\n",
       "      <td>CLE</td>\n",
       "      <td>2015-16</td>\n",
       "      <td>220</td>\n",
       "      <td>90</td>\n",
       "      <td>252</td>\n",
       "      <td>111</td>\n",
       "      <td>W</td>\n",
       "    </tr>\n",
       "    <tr>\n",
       "      <th>4</th>\n",
       "      <td>NOP</td>\n",
       "      <td>2015-16</td>\n",
       "      <td>83</td>\n",
       "      <td>35</td>\n",
       "      <td>82</td>\n",
       "      <td>33</td>\n",
       "      <td>W</td>\n",
       "    </tr>\n",
       "  </tbody>\n",
       "</table>\n",
       "</div>"
      ],
      "text/plain": [
       "  TEAM   Season  LC3_FGA  LC3_FGM  RC3_FGA  RC3_FGM OUTCOME\n",
       "0  TOR  2015-16      243      103      163       68       W\n",
       "1  ATL  2015-16      153       56      174       68       W\n",
       "2  BOS  2015-16      137       49      145       55       W\n",
       "3  CLE  2015-16      220       90      252      111       W\n",
       "4  NOP  2015-16       83       35       82       33       W"
      ]
     },
     "execution_count": 12,
     "metadata": {},
     "output_type": "execute_result"
    }
   ],
   "source": [
    "winning_df.info()\n",
    "winning_df.head()"
   ]
  },
  {
   "cell_type": "code",
   "execution_count": 13,
   "metadata": {
    "pycharm": {
     "is_executing": true
    }
   },
   "outputs": [
    {
     "name": "stdout",
     "output_type": "stream",
     "text": [
      "<class 'pandas.core.frame.DataFrame'>\n",
      "Int64Index: 90 entries, 0 to 29\n",
      "Data columns (total 7 columns):\n",
      " #   Column   Non-Null Count  Dtype \n",
      "---  ------   --------------  ----- \n",
      " 0   TEAM     90 non-null     object\n",
      " 1   Season   90 non-null     object\n",
      " 2   LC3_FGA  90 non-null     int32 \n",
      " 3   LC3_FGM  90 non-null     int32 \n",
      " 4   RC3_FGA  90 non-null     int32 \n",
      " 5   RC3_FGM  90 non-null     int32 \n",
      " 6   OUTCOME  90 non-null     object\n",
      "dtypes: int32(4), object(3)\n",
      "memory usage: 4.2+ KB\n"
     ]
    },
    {
     "data": {
      "text/html": [
       "<div>\n",
       "<style scoped>\n",
       "    .dataframe tbody tr th:only-of-type {\n",
       "        vertical-align: middle;\n",
       "    }\n",
       "\n",
       "    .dataframe tbody tr th {\n",
       "        vertical-align: top;\n",
       "    }\n",
       "\n",
       "    .dataframe thead th {\n",
       "        text-align: right;\n",
       "    }\n",
       "</style>\n",
       "<table border=\"1\" class=\"dataframe\">\n",
       "  <thead>\n",
       "    <tr style=\"text-align: right;\">\n",
       "      <th></th>\n",
       "      <th>TEAM</th>\n",
       "      <th>Season</th>\n",
       "      <th>LC3_FGA</th>\n",
       "      <th>LC3_FGM</th>\n",
       "      <th>RC3_FGA</th>\n",
       "      <th>RC3_FGM</th>\n",
       "      <th>OUTCOME</th>\n",
       "    </tr>\n",
       "  </thead>\n",
       "  <tbody>\n",
       "    <tr>\n",
       "      <th>0</th>\n",
       "      <td>TOR</td>\n",
       "      <td>2015-16</td>\n",
       "      <td>95</td>\n",
       "      <td>29</td>\n",
       "      <td>77</td>\n",
       "      <td>36</td>\n",
       "      <td>L</td>\n",
       "    </tr>\n",
       "    <tr>\n",
       "      <th>1</th>\n",
       "      <td>ATL</td>\n",
       "      <td>2015-16</td>\n",
       "      <td>118</td>\n",
       "      <td>39</td>\n",
       "      <td>133</td>\n",
       "      <td>47</td>\n",
       "      <td>L</td>\n",
       "    </tr>\n",
       "    <tr>\n",
       "      <th>2</th>\n",
       "      <td>BOS</td>\n",
       "      <td>2015-16</td>\n",
       "      <td>117</td>\n",
       "      <td>47</td>\n",
       "      <td>110</td>\n",
       "      <td>27</td>\n",
       "      <td>L</td>\n",
       "    </tr>\n",
       "    <tr>\n",
       "      <th>3</th>\n",
       "      <td>CLE</td>\n",
       "      <td>2015-16</td>\n",
       "      <td>93</td>\n",
       "      <td>32</td>\n",
       "      <td>97</td>\n",
       "      <td>28</td>\n",
       "      <td>L</td>\n",
       "    </tr>\n",
       "    <tr>\n",
       "      <th>4</th>\n",
       "      <td>NOP</td>\n",
       "      <td>2015-16</td>\n",
       "      <td>151</td>\n",
       "      <td>44</td>\n",
       "      <td>141</td>\n",
       "      <td>39</td>\n",
       "      <td>L</td>\n",
       "    </tr>\n",
       "  </tbody>\n",
       "</table>\n",
       "</div>"
      ],
      "text/plain": [
       "  TEAM   Season  LC3_FGA  LC3_FGM  RC3_FGA  RC3_FGM OUTCOME\n",
       "0  TOR  2015-16       95       29       77       36       L\n",
       "1  ATL  2015-16      118       39      133       47       L\n",
       "2  BOS  2015-16      117       47      110       27       L\n",
       "3  CLE  2015-16       93       32       97       28       L\n",
       "4  NOP  2015-16      151       44      141       39       L"
      ]
     },
     "execution_count": 13,
     "metadata": {},
     "output_type": "execute_result"
    }
   ],
   "source": [
    "losing_df.info()\n",
    "losing_df.head()"
   ]
  },
  {
   "cell_type": "code",
   "execution_count": 26,
   "metadata": {},
   "outputs": [],
   "source": [
    "winning_ave_lc3_fga = winning_df['LC3_FGA'].groupby(winning_df['TEAM']).mean()\n",
    "winning_ave_lc3_fgm = winning_df['LC3_FGM'].groupby(winning_df['TEAM']).mean()\n",
    "winning_ave_rc3_fga = winning_df['RC3_FGA'].groupby(winning_df['TEAM']).mean()\n",
    "winning_ave_rc3_fgm = winning_df['RC3_FGM'].groupby(winning_df['TEAM']).mean()"
   ]
  },
  {
   "cell_type": "code",
   "execution_count": 27,
   "metadata": {},
   "outputs": [],
   "source": [
    "losing_ave_lc3_fga = losing_df['LC3_FGA'].groupby(losing_df['TEAM']).mean()\n",
    "losing_ave_lc3_fgm = losing_df['LC3_FGM'].groupby(losing_df['TEAM']).mean()\n",
    "losing_ave_rc3_fga = losing_df['RC3_FGA'].groupby(losing_df['TEAM']).mean()\n",
    "losing_ave_rc3_fgm = losing_df['RC3_FGM'].groupby(losing_df['TEAM']).mean()"
   ]
  },
  {
   "cell_type": "code",
   "execution_count": 29,
   "metadata": {},
   "outputs": [
    {
     "data": {
      "image/png": "[encoded data removed]",
      "text/plain": [
       "<Figure size 432x288 with 1 Axes>"
      ]
     },
     "metadata": {
      "needs_background": "light"
     },
     "output_type": "display_data"
    }
   ],
   "source": [
    "labels = list(winning_df.columns[2:6])\n",
    "w_averages = [winning_ave_lc3_fga['BOS'], winning_ave_lc3_fgm['BOS'], winning_ave_rc3_fga['BOS'], winning_ave_rc3_fgm['BOS']]\n",
    "l_averages = [losing_ave_lc3_fga['BOS'], losing_ave_lc3_fgm['BOS'], losing_ave_rc3_fga['BOS'], losing_ave_rc3_fgm['BOS']]\n",
    "x = np.arange(len(labels))\n",
    "width = 0.35\n",
    "\n",
    "fig, ax = plt.subplots()\n",
    "\n",
    "rects1 = ax.bar(x - width/2, w_averages, width, label='During Win')\n",
    "rects2 = ax.bar(x + width/2, l_averages, width, label='During Loss')\n",
    "ax.set_ylabel('Shots')\n",
    "ax.set_title('Boston Celtics Corner Shooting Results According to Game Outcome')\n",
    "ax.set_xticks(x)\n",
    "ax.set_xticklabels(labels)\n",
    "ax.legend()\n",
    "fig.tight_layout()\n",
    "plt.show()"
   ]
  }
 ],
 "metadata": {
  "kernelspec": {
   "display_name": "Python 3",
   "language": "python",
   "name": "python3"
  },
  "language_info": {
   "codemirror_mode": {
    "name": "ipython",
    "version": 3
   },
   "file_extension": ".py",
   "mimetype": "text/x-python",
   "name": "python",
   "nbconvert_exporter": "python",
   "pygments_lexer": "ipython3",
   "version": "3.7.9"
  }
 },
 "nbformat": 4,
 "nbformat_minor": 1
}